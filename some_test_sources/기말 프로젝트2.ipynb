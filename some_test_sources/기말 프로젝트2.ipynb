{
 "cells": [
  {
   "cell_type": "markdown",
   "metadata": {},
   "source": [
    "## 멜론 시대별 차트로 보는 장르별 선호 흐름"
   ]
  },
  {
   "cell_type": "code",
   "execution_count": 439,
   "metadata": {},
   "outputs": [],
   "source": [
    "import pandas as pd\n",
    "from sklearn.model_selection import train_test_split\n",
    "from sklearn.linear_model import LinearRegression\n",
    "from sklearn.metrics import mean_squared_error, r2_score\n",
    "import numpy as np\n",
    "import time\n",
    "import datetime as dt\n",
    "import matplotlib.pyplot as plt\n",
    "import seaborn as sns\n",
    "%matplotlib inline"
   ]
  },
  {
   "cell_type": "code",
   "execution_count": 440,
   "metadata": {},
   "outputs": [],
   "source": [
    "names = ['Date', '애시드/퓨전/팝', '드라마OST', '클래식', '인디음악', '영화OST', '발라드', '댄스', '록/메탈',\n",
    "         'R&B/Soul', '일렉트로니카', '랩/힙합', 'EDM', 'POP', 'J-POP', '성인가요', '재즈', '뉴에이지',\n",
    "         '포크/블루스', '만화/게임OST', '-']"
   ]
  },
  {
   "cell_type": "code",
   "execution_count": 441,
   "metadata": {},
   "outputs": [],
   "source": [
    "def get_data_frame():\n",
    "    # print(\"current : \", year, month)\n",
    "    load_file = \"C:/Users/jay/Jay/기말플젝/final_data/final.csv\"\n",
    "\n",
    "    try:\n",
    "        data = pd.read_csv(load_file, encoding='cp949',\n",
    "                           names=names, header=None)\n",
    "    except UnicodeError:\n",
    "        try:\n",
    "            data = pd.read_csv(load_file, encoding='utf-8',\n",
    "                               names=names, header=None)\n",
    "        except Exception as e:\n",
    "            print(e)\n",
    "    return data"
   ]
  },
  {
   "cell_type": "code",
   "execution_count": 442,
   "metadata": {},
   "outputs": [],
   "source": []
  },
  {
   "cell_type": "code",
   "execution_count": 443,
   "metadata": {},
   "outputs": [],
   "source": [
    "def get_keys(data):\n",
    "    keys = []\n",
    "    for key in data.keys():\n",
    "        if key != 'Date':\n",
    "            keys.append([key])\n",
    "    return keys"
   ]
  },
  {
   "cell_type": "code",
   "execution_count": 444,
   "metadata": {},
   "outputs": [],
   "source": [
    "data = get_data_frame()\n",
    "mellon_df = pd.DataFrame(data, columns=names)\n",
    "elements = get_keys(data)"
   ]
  },
  {
   "cell_type": "code",
   "execution_count": 445,
   "metadata": {},
   "outputs": [
    {
     "name": "stdout",
     "output_type": "stream",
     "text": [
      "멜론 시대별 차트 데이터 크기 :  (240, 21)\n"
     ]
    }
   ],
   "source": [
    "print(\"멜론 시대별 차트 데이터 크기 : \", mellon_df.shape)"
   ]
  },
  {
   "cell_type": "code",
   "execution_count": 446,
   "metadata": {},
   "outputs": [
    {
     "name": "stdout",
     "output_type": "stream",
     "text": [
      "<class 'pandas.core.frame.DataFrame'>\n",
      "Float64Index: 240 entries, nan to 238.0\n",
      "Data columns (total 21 columns):\n",
      "Date        240 non-null object\n",
      "애시드/퓨전/팝    240 non-null object\n",
      "드라마OST      240 non-null object\n",
      "클래식         240 non-null object\n",
      "인디음악        240 non-null object\n",
      "영화OST       240 non-null object\n",
      "발라드         240 non-null object\n",
      "댄스          240 non-null object\n",
      "록/메탈        240 non-null object\n",
      "R&B/Soul    240 non-null object\n",
      "일렉트로니카      240 non-null object\n",
      "랩/힙합        240 non-null object\n",
      "EDM         240 non-null object\n",
      "POP         240 non-null object\n",
      "J-POP       240 non-null object\n",
      "성인가요        240 non-null object\n",
      "재즈          240 non-null object\n",
      "뉴에이지        240 non-null object\n",
      "포크/블루스      240 non-null object\n",
      "만화/게임OST    240 non-null object\n",
      "-           240 non-null object\n",
      "dtypes: object(21)\n",
      "memory usage: 41.2+ KB\n",
      "None\n"
     ]
    }
   ],
   "source": [
    "print(mellon_df.info())"
   ]
  },
  {
   "cell_type": "code",
   "execution_count": 447,
   "metadata": {},
   "outputs": [
    {
     "data": {
      "text/plain": [
       "Date        object\n",
       "애시드/퓨전/팝    object\n",
       "드라마OST      object\n",
       "클래식         object\n",
       "인디음악        object\n",
       "영화OST       object\n",
       "발라드         object\n",
       "댄스          object\n",
       "록/메탈        object\n",
       "R&B/Soul    object\n",
       "일렉트로니카      object\n",
       "랩/힙합        object\n",
       "EDM         object\n",
       "POP         object\n",
       "J-POP       object\n",
       "성인가요        object\n",
       "재즈          object\n",
       "뉴에이지        object\n",
       "포크/블루스      object\n",
       "만화/게임OST    object\n",
       "-           object\n",
       "dtype: object"
      ]
     },
     "execution_count": 447,
     "metadata": {},
     "output_type": "execute_result"
    }
   ],
   "source": [
    "mellon_df.dtypes"
   ]
  },
  {
   "cell_type": "code",
   "execution_count": 448,
   "metadata": {},
   "outputs": [],
   "source": [
    "mellon_df['Date'] = pd.to_datetime(mellon_df['Date'], dayfirst=True, errors='coerce')\n",
    "mellon_df['Date'] = mellon_df['Date'].map(dt.datetime.toordinal)\n"
   ]
  },
  {
   "cell_type": "code",
   "execution_count": 449,
   "metadata": {
    "scrolled": true
   },
   "outputs": [
    {
     "data": {
      "text/plain": [
       "NaN         1\n",
       "0.0    730120\n",
       "1.0    730151\n",
       "2.0    730180\n",
       "3.0    730211\n",
       "Name: Date, dtype: int64"
      ]
     },
     "execution_count": 449,
     "metadata": {},
     "output_type": "execute_result"
    }
   ],
   "source": [
    "mellon_df['Date'].head()"
   ]
  },
  {
   "cell_type": "code",
   "execution_count": 566,
   "metadata": {},
   "outputs": [],
   "source": [
    "mellon_df  = mellon_df.dropna(axis = 0)"
   ]
  },
  {
   "cell_type": "code",
   "execution_count": 567,
   "metadata": {},
   "outputs": [
    {
     "data": {
      "text/html": [
       "<div>\n",
       "<style scoped>\n",
       "    .dataframe tbody tr th:only-of-type {\n",
       "        vertical-align: middle;\n",
       "    }\n",
       "\n",
       "    .dataframe tbody tr th {\n",
       "        vertical-align: top;\n",
       "    }\n",
       "\n",
       "    .dataframe thead th {\n",
       "        text-align: right;\n",
       "    }\n",
       "</style>\n",
       "<table border=\"1\" class=\"dataframe\">\n",
       "  <thead>\n",
       "    <tr style=\"text-align: right;\">\n",
       "      <th></th>\n",
       "      <th>Date</th>\n",
       "      <th>애시드/퓨전/팝</th>\n",
       "      <th>드라마OST</th>\n",
       "      <th>클래식</th>\n",
       "      <th>인디음악</th>\n",
       "      <th>영화OST</th>\n",
       "      <th>발라드</th>\n",
       "      <th>댄스</th>\n",
       "      <th>록/메탈</th>\n",
       "      <th>R&amp;B/Soul</th>\n",
       "      <th>...</th>\n",
       "      <th>랩/힙합</th>\n",
       "      <th>EDM</th>\n",
       "      <th>POP</th>\n",
       "      <th>J-POP</th>\n",
       "      <th>성인가요</th>\n",
       "      <th>재즈</th>\n",
       "      <th>뉴에이지</th>\n",
       "      <th>포크/블루스</th>\n",
       "      <th>만화/게임OST</th>\n",
       "      <th>-</th>\n",
       "    </tr>\n",
       "  </thead>\n",
       "  <tbody>\n",
       "    <tr>\n",
       "      <td>0.0</td>\n",
       "      <td>730120</td>\n",
       "      <td>0.0</td>\n",
       "      <td>0.0</td>\n",
       "      <td>0.0</td>\n",
       "      <td>0.000000</td>\n",
       "      <td>0.000000</td>\n",
       "      <td>34.615385</td>\n",
       "      <td>28.205128</td>\n",
       "      <td>19.230769</td>\n",
       "      <td>3.846154</td>\n",
       "      <td>...</td>\n",
       "      <td>10.256410</td>\n",
       "      <td>0.0</td>\n",
       "      <td>0.000000</td>\n",
       "      <td>0.0</td>\n",
       "      <td>0.000000</td>\n",
       "      <td>0.0</td>\n",
       "      <td>1.282051</td>\n",
       "      <td>1.282051</td>\n",
       "      <td>0.0</td>\n",
       "      <td>1.282051282051282</td>\n",
       "    </tr>\n",
       "    <tr>\n",
       "      <td>1.0</td>\n",
       "      <td>730151</td>\n",
       "      <td>0.0</td>\n",
       "      <td>0.0</td>\n",
       "      <td>0.0</td>\n",
       "      <td>1.515152</td>\n",
       "      <td>0.000000</td>\n",
       "      <td>34.848485</td>\n",
       "      <td>33.333333</td>\n",
       "      <td>18.181818</td>\n",
       "      <td>3.030303</td>\n",
       "      <td>...</td>\n",
       "      <td>7.575758</td>\n",
       "      <td>0.0</td>\n",
       "      <td>0.000000</td>\n",
       "      <td>0.0</td>\n",
       "      <td>0.000000</td>\n",
       "      <td>0.0</td>\n",
       "      <td>1.515152</td>\n",
       "      <td>0.000000</td>\n",
       "      <td>0.0</td>\n",
       "      <td>0.0</td>\n",
       "    </tr>\n",
       "    <tr>\n",
       "      <td>2.0</td>\n",
       "      <td>730180</td>\n",
       "      <td>0.0</td>\n",
       "      <td>1.4705882352941175</td>\n",
       "      <td>0.0</td>\n",
       "      <td>1.470588</td>\n",
       "      <td>0.000000</td>\n",
       "      <td>41.176471</td>\n",
       "      <td>26.470588</td>\n",
       "      <td>17.647059</td>\n",
       "      <td>2.941176</td>\n",
       "      <td>...</td>\n",
       "      <td>7.352941</td>\n",
       "      <td>0.0</td>\n",
       "      <td>0.000000</td>\n",
       "      <td>0.0</td>\n",
       "      <td>0.000000</td>\n",
       "      <td>0.0</td>\n",
       "      <td>0.000000</td>\n",
       "      <td>0.000000</td>\n",
       "      <td>0.0</td>\n",
       "      <td>1.4705882352941175</td>\n",
       "    </tr>\n",
       "    <tr>\n",
       "      <td>3.0</td>\n",
       "      <td>730211</td>\n",
       "      <td>0.0</td>\n",
       "      <td>1.4084507042253522</td>\n",
       "      <td>0.0</td>\n",
       "      <td>1.408451</td>\n",
       "      <td>0.000000</td>\n",
       "      <td>39.436620</td>\n",
       "      <td>30.985915</td>\n",
       "      <td>15.492958</td>\n",
       "      <td>4.225352</td>\n",
       "      <td>...</td>\n",
       "      <td>7.042254</td>\n",
       "      <td>0.0</td>\n",
       "      <td>0.000000</td>\n",
       "      <td>0.0</td>\n",
       "      <td>0.000000</td>\n",
       "      <td>0.0</td>\n",
       "      <td>0.000000</td>\n",
       "      <td>0.000000</td>\n",
       "      <td>0.0</td>\n",
       "      <td>0.0</td>\n",
       "    </tr>\n",
       "    <tr>\n",
       "      <td>4.0</td>\n",
       "      <td>730241</td>\n",
       "      <td>0.0</td>\n",
       "      <td>1.3333333333333335</td>\n",
       "      <td>0.0</td>\n",
       "      <td>0.000000</td>\n",
       "      <td>0.000000</td>\n",
       "      <td>40.000000</td>\n",
       "      <td>29.333333</td>\n",
       "      <td>12.000000</td>\n",
       "      <td>6.666667</td>\n",
       "      <td>...</td>\n",
       "      <td>10.666667</td>\n",
       "      <td>0.0</td>\n",
       "      <td>0.000000</td>\n",
       "      <td>0.0</td>\n",
       "      <td>0.000000</td>\n",
       "      <td>0.0</td>\n",
       "      <td>0.000000</td>\n",
       "      <td>0.000000</td>\n",
       "      <td>0.0</td>\n",
       "      <td>0.0</td>\n",
       "    </tr>\n",
       "    <tr>\n",
       "      <td>...</td>\n",
       "      <td>...</td>\n",
       "      <td>...</td>\n",
       "      <td>...</td>\n",
       "      <td>...</td>\n",
       "      <td>...</td>\n",
       "      <td>...</td>\n",
       "      <td>...</td>\n",
       "      <td>...</td>\n",
       "      <td>...</td>\n",
       "      <td>...</td>\n",
       "      <td>...</td>\n",
       "      <td>...</td>\n",
       "      <td>...</td>\n",
       "      <td>...</td>\n",
       "      <td>...</td>\n",
       "      <td>...</td>\n",
       "      <td>...</td>\n",
       "      <td>...</td>\n",
       "      <td>...</td>\n",
       "      <td>...</td>\n",
       "      <td>...</td>\n",
       "    </tr>\n",
       "    <tr>\n",
       "      <td>234.0</td>\n",
       "      <td>737241</td>\n",
       "      <td>0.0</td>\n",
       "      <td>4.166666666666666</td>\n",
       "      <td>0.0</td>\n",
       "      <td>8.333333</td>\n",
       "      <td>3.333333</td>\n",
       "      <td>29.166667</td>\n",
       "      <td>15.833333</td>\n",
       "      <td>5.833333</td>\n",
       "      <td>8.333333</td>\n",
       "      <td>...</td>\n",
       "      <td>10.833333</td>\n",
       "      <td>0.0</td>\n",
       "      <td>10.833333</td>\n",
       "      <td>0.0</td>\n",
       "      <td>0.833333</td>\n",
       "      <td>0.0</td>\n",
       "      <td>0.000000</td>\n",
       "      <td>1.666667</td>\n",
       "      <td>0.0</td>\n",
       "      <td>0.0</td>\n",
       "    </tr>\n",
       "    <tr>\n",
       "      <td>235.0</td>\n",
       "      <td>737272</td>\n",
       "      <td>0.0</td>\n",
       "      <td>11.023622047244094</td>\n",
       "      <td>0.0</td>\n",
       "      <td>7.874016</td>\n",
       "      <td>1.574803</td>\n",
       "      <td>29.133858</td>\n",
       "      <td>14.960630</td>\n",
       "      <td>3.937008</td>\n",
       "      <td>7.874016</td>\n",
       "      <td>...</td>\n",
       "      <td>11.811024</td>\n",
       "      <td>0.0</td>\n",
       "      <td>7.874016</td>\n",
       "      <td>0.0</td>\n",
       "      <td>0.787402</td>\n",
       "      <td>0.0</td>\n",
       "      <td>0.000000</td>\n",
       "      <td>2.362205</td>\n",
       "      <td>0.0</td>\n",
       "      <td>0.0</td>\n",
       "    </tr>\n",
       "    <tr>\n",
       "      <td>236.0</td>\n",
       "      <td>737303</td>\n",
       "      <td>0.0</td>\n",
       "      <td>10.606060606060606</td>\n",
       "      <td>0.0</td>\n",
       "      <td>11.363636</td>\n",
       "      <td>1.515152</td>\n",
       "      <td>33.333333</td>\n",
       "      <td>11.363636</td>\n",
       "      <td>7.575758</td>\n",
       "      <td>6.818182</td>\n",
       "      <td>...</td>\n",
       "      <td>9.090909</td>\n",
       "      <td>0.0</td>\n",
       "      <td>6.818182</td>\n",
       "      <td>0.0</td>\n",
       "      <td>0.000000</td>\n",
       "      <td>0.0</td>\n",
       "      <td>0.000000</td>\n",
       "      <td>0.757576</td>\n",
       "      <td>0.0</td>\n",
       "      <td>0.0</td>\n",
       "    </tr>\n",
       "    <tr>\n",
       "      <td>237.0</td>\n",
       "      <td>737333</td>\n",
       "      <td>0.0</td>\n",
       "      <td>8.064516129032258</td>\n",
       "      <td>0.0</td>\n",
       "      <td>9.677419</td>\n",
       "      <td>0.806452</td>\n",
       "      <td>37.096774</td>\n",
       "      <td>8.870968</td>\n",
       "      <td>8.870968</td>\n",
       "      <td>8.064516</td>\n",
       "      <td>...</td>\n",
       "      <td>9.677419</td>\n",
       "      <td>0.0</td>\n",
       "      <td>5.645161</td>\n",
       "      <td>0.0</td>\n",
       "      <td>0.000000</td>\n",
       "      <td>0.0</td>\n",
       "      <td>0.000000</td>\n",
       "      <td>2.419355</td>\n",
       "      <td>0.0</td>\n",
       "      <td>0.0</td>\n",
       "    </tr>\n",
       "    <tr>\n",
       "      <td>238.0</td>\n",
       "      <td>737364</td>\n",
       "      <td>0.0</td>\n",
       "      <td>9.75609756097561</td>\n",
       "      <td>0.0</td>\n",
       "      <td>6.504065</td>\n",
       "      <td>0.813008</td>\n",
       "      <td>39.024390</td>\n",
       "      <td>9.756098</td>\n",
       "      <td>8.943089</td>\n",
       "      <td>6.504065</td>\n",
       "      <td>...</td>\n",
       "      <td>12.195122</td>\n",
       "      <td>0.0</td>\n",
       "      <td>5.691057</td>\n",
       "      <td>0.0</td>\n",
       "      <td>0.000000</td>\n",
       "      <td>0.0</td>\n",
       "      <td>0.000000</td>\n",
       "      <td>0.000000</td>\n",
       "      <td>0.8130081300813009</td>\n",
       "      <td>0.0</td>\n",
       "    </tr>\n",
       "  </tbody>\n",
       "</table>\n",
       "<p>239 rows × 21 columns</p>\n",
       "</div>"
      ],
      "text/plain": [
       "         Date  애시드/퓨전/팝              드라마OST  클래식       인디음악     영화OST  \\\n",
       "0.0    730120       0.0                 0.0  0.0   0.000000  0.000000   \n",
       "1.0    730151       0.0                 0.0  0.0   1.515152  0.000000   \n",
       "2.0    730180       0.0  1.4705882352941175  0.0   1.470588  0.000000   \n",
       "3.0    730211       0.0  1.4084507042253522  0.0   1.408451  0.000000   \n",
       "4.0    730241       0.0  1.3333333333333335  0.0   0.000000  0.000000   \n",
       "...       ...       ...                 ...  ...        ...       ...   \n",
       "234.0  737241       0.0   4.166666666666666  0.0   8.333333  3.333333   \n",
       "235.0  737272       0.0  11.023622047244094  0.0   7.874016  1.574803   \n",
       "236.0  737303       0.0  10.606060606060606  0.0  11.363636  1.515152   \n",
       "237.0  737333       0.0   8.064516129032258  0.0   9.677419  0.806452   \n",
       "238.0  737364       0.0    9.75609756097561  0.0   6.504065  0.813008   \n",
       "\n",
       "             발라드         댄스       록/메탈  R&B/Soul  ...       랩/힙합  EDM  \\\n",
       "0.0    34.615385  28.205128  19.230769  3.846154  ...  10.256410  0.0   \n",
       "1.0    34.848485  33.333333  18.181818  3.030303  ...   7.575758  0.0   \n",
       "2.0    41.176471  26.470588  17.647059  2.941176  ...   7.352941  0.0   \n",
       "3.0    39.436620  30.985915  15.492958  4.225352  ...   7.042254  0.0   \n",
       "4.0    40.000000  29.333333  12.000000  6.666667  ...  10.666667  0.0   \n",
       "...          ...        ...        ...       ...  ...        ...  ...   \n",
       "234.0  29.166667  15.833333   5.833333  8.333333  ...  10.833333  0.0   \n",
       "235.0  29.133858  14.960630   3.937008  7.874016  ...  11.811024  0.0   \n",
       "236.0  33.333333  11.363636   7.575758  6.818182  ...   9.090909  0.0   \n",
       "237.0  37.096774   8.870968   8.870968  8.064516  ...   9.677419  0.0   \n",
       "238.0  39.024390   9.756098   8.943089  6.504065  ...  12.195122  0.0   \n",
       "\n",
       "             POP  J-POP      성인가요   재즈      뉴에이지    포크/블루스  \\\n",
       "0.0     0.000000    0.0  0.000000  0.0  1.282051  1.282051   \n",
       "1.0     0.000000    0.0  0.000000  0.0  1.515152  0.000000   \n",
       "2.0     0.000000    0.0  0.000000  0.0  0.000000  0.000000   \n",
       "3.0     0.000000    0.0  0.000000  0.0  0.000000  0.000000   \n",
       "4.0     0.000000    0.0  0.000000  0.0  0.000000  0.000000   \n",
       "...          ...    ...       ...  ...       ...       ...   \n",
       "234.0  10.833333    0.0  0.833333  0.0  0.000000  1.666667   \n",
       "235.0   7.874016    0.0  0.787402  0.0  0.000000  2.362205   \n",
       "236.0   6.818182    0.0  0.000000  0.0  0.000000  0.757576   \n",
       "237.0   5.645161    0.0  0.000000  0.0  0.000000  2.419355   \n",
       "238.0   5.691057    0.0  0.000000  0.0  0.000000  0.000000   \n",
       "\n",
       "                 만화/게임OST                   -  \n",
       "0.0                   0.0   1.282051282051282  \n",
       "1.0                   0.0                 0.0  \n",
       "2.0                   0.0  1.4705882352941175  \n",
       "3.0                   0.0                 0.0  \n",
       "4.0                   0.0                 0.0  \n",
       "...                   ...                 ...  \n",
       "234.0                 0.0                 0.0  \n",
       "235.0                 0.0                 0.0  \n",
       "236.0                 0.0                 0.0  \n",
       "237.0                 0.0                 0.0  \n",
       "238.0  0.8130081300813009                 0.0  \n",
       "\n",
       "[239 rows x 21 columns]"
      ]
     },
     "execution_count": 567,
     "metadata": {},
     "output_type": "execute_result"
    }
   ],
   "source": [
    "mellon_df"
   ]
  },
  {
   "cell_type": "code",
   "execution_count": 452,
   "metadata": {},
   "outputs": [],
   "source": [
    "# mellon_df = mellon_df.set_index('Date')"
   ]
  },
  {
   "cell_type": "code",
   "execution_count": 453,
   "metadata": {},
   "outputs": [
    {
     "data": {
      "text/plain": [
       "True"
      ]
     },
     "execution_count": 453,
     "metadata": {},
     "output_type": "execute_result"
    }
   ],
   "source": [
    "mellon_df.index.is_unique"
   ]
  },
  {
   "cell_type": "markdown",
   "metadata": {},
   "source": [
    "### 대략적인 년, 월"
   ]
  },
  {
   "cell_type": "code",
   "execution_count": 507,
   "metadata": {},
   "outputs": [],
   "source": [
    "# print( int((mellon_df.index.max()- mellon_df.index.min()).days/30/12),\"년\")"
   ]
  },
  {
   "cell_type": "code",
   "execution_count": 508,
   "metadata": {},
   "outputs": [],
   "source": [
    "# print( int((mellon_df.index.max()- mellon_df.index.min()).days/30),\"개월\")"
   ]
  },
  {
   "cell_type": "markdown",
   "metadata": {},
   "source": [
    "### 자료형을 object => 숫자로 바꿔줌"
   ]
  },
  {
   "cell_type": "code",
   "execution_count": 509,
   "metadata": {
    "scrolled": true
   },
   "outputs": [
    {
     "name": "stdout",
     "output_type": "stream",
     "text": [
      "Date          int64\n",
      "애시드/퓨전/팝    float64\n",
      "드라마OST       object\n",
      "클래식         float64\n",
      "인디음악        float64\n",
      "영화OST       float64\n",
      "발라드         float64\n",
      "댄스          float64\n",
      "록/메탈        float64\n",
      "R&B/Soul    float64\n",
      "일렉트로니카      float64\n",
      "랩/힙합        float64\n",
      "EDM         float64\n",
      "POP         float64\n",
      "J-POP       float64\n",
      "성인가요        float64\n",
      "재즈          float64\n",
      "뉴에이지        float64\n",
      "포크/블루스      float64\n",
      "만화/게임OST     object\n",
      "-            object\n",
      "dtype: object\n"
     ]
    }
   ],
   "source": [
    "for key in mellon_df.keys():\n",
    "    if key != 'Date' and key !='드라마OST' and key != '만화/게임OST' and key != '-':\n",
    "        mellon_df[key] = pd.to_numeric(mellon_df[key], errors='coerce')\n",
    "print(mellon_df.dtypes)"
   ]
  },
  {
   "cell_type": "code",
   "execution_count": 510,
   "metadata": {},
   "outputs": [
    {
     "data": {
      "text/html": [
       "<div>\n",
       "<style scoped>\n",
       "    .dataframe tbody tr th:only-of-type {\n",
       "        vertical-align: middle;\n",
       "    }\n",
       "\n",
       "    .dataframe tbody tr th {\n",
       "        vertical-align: top;\n",
       "    }\n",
       "\n",
       "    .dataframe thead th {\n",
       "        text-align: right;\n",
       "    }\n",
       "</style>\n",
       "<table border=\"1\" class=\"dataframe\">\n",
       "  <thead>\n",
       "    <tr style=\"text-align: right;\">\n",
       "      <th></th>\n",
       "      <th>Date</th>\n",
       "      <th>애시드/퓨전/팝</th>\n",
       "      <th>드라마OST</th>\n",
       "      <th>클래식</th>\n",
       "      <th>인디음악</th>\n",
       "      <th>영화OST</th>\n",
       "      <th>발라드</th>\n",
       "      <th>댄스</th>\n",
       "      <th>록/메탈</th>\n",
       "      <th>R&amp;B/Soul</th>\n",
       "      <th>...</th>\n",
       "      <th>랩/힙합</th>\n",
       "      <th>EDM</th>\n",
       "      <th>POP</th>\n",
       "      <th>J-POP</th>\n",
       "      <th>성인가요</th>\n",
       "      <th>재즈</th>\n",
       "      <th>뉴에이지</th>\n",
       "      <th>포크/블루스</th>\n",
       "      <th>만화/게임OST</th>\n",
       "      <th>-</th>\n",
       "    </tr>\n",
       "  </thead>\n",
       "  <tbody>\n",
       "    <tr>\n",
       "      <td>0.0</td>\n",
       "      <td>730120</td>\n",
       "      <td>0.0</td>\n",
       "      <td>0.0</td>\n",
       "      <td>0.0</td>\n",
       "      <td>0.000000</td>\n",
       "      <td>0.0</td>\n",
       "      <td>34.615385</td>\n",
       "      <td>28.205128</td>\n",
       "      <td>19.230769</td>\n",
       "      <td>3.846154</td>\n",
       "      <td>...</td>\n",
       "      <td>10.256410</td>\n",
       "      <td>0.0</td>\n",
       "      <td>0.0</td>\n",
       "      <td>0.0</td>\n",
       "      <td>0.0</td>\n",
       "      <td>0.0</td>\n",
       "      <td>1.282051</td>\n",
       "      <td>1.282051</td>\n",
       "      <td>0.0</td>\n",
       "      <td>1.282051282051282</td>\n",
       "    </tr>\n",
       "    <tr>\n",
       "      <td>1.0</td>\n",
       "      <td>730151</td>\n",
       "      <td>0.0</td>\n",
       "      <td>0.0</td>\n",
       "      <td>0.0</td>\n",
       "      <td>1.515152</td>\n",
       "      <td>0.0</td>\n",
       "      <td>34.848485</td>\n",
       "      <td>33.333333</td>\n",
       "      <td>18.181818</td>\n",
       "      <td>3.030303</td>\n",
       "      <td>...</td>\n",
       "      <td>7.575758</td>\n",
       "      <td>0.0</td>\n",
       "      <td>0.0</td>\n",
       "      <td>0.0</td>\n",
       "      <td>0.0</td>\n",
       "      <td>0.0</td>\n",
       "      <td>1.515152</td>\n",
       "      <td>0.000000</td>\n",
       "      <td>0.0</td>\n",
       "      <td>0.0</td>\n",
       "    </tr>\n",
       "    <tr>\n",
       "      <td>2.0</td>\n",
       "      <td>730180</td>\n",
       "      <td>0.0</td>\n",
       "      <td>1.4705882352941175</td>\n",
       "      <td>0.0</td>\n",
       "      <td>1.470588</td>\n",
       "      <td>0.0</td>\n",
       "      <td>41.176471</td>\n",
       "      <td>26.470588</td>\n",
       "      <td>17.647059</td>\n",
       "      <td>2.941176</td>\n",
       "      <td>...</td>\n",
       "      <td>7.352941</td>\n",
       "      <td>0.0</td>\n",
       "      <td>0.0</td>\n",
       "      <td>0.0</td>\n",
       "      <td>0.0</td>\n",
       "      <td>0.0</td>\n",
       "      <td>0.000000</td>\n",
       "      <td>0.000000</td>\n",
       "      <td>0.0</td>\n",
       "      <td>1.4705882352941175</td>\n",
       "    </tr>\n",
       "    <tr>\n",
       "      <td>3.0</td>\n",
       "      <td>730211</td>\n",
       "      <td>0.0</td>\n",
       "      <td>1.4084507042253522</td>\n",
       "      <td>0.0</td>\n",
       "      <td>1.408451</td>\n",
       "      <td>0.0</td>\n",
       "      <td>39.436620</td>\n",
       "      <td>30.985915</td>\n",
       "      <td>15.492958</td>\n",
       "      <td>4.225352</td>\n",
       "      <td>...</td>\n",
       "      <td>7.042254</td>\n",
       "      <td>0.0</td>\n",
       "      <td>0.0</td>\n",
       "      <td>0.0</td>\n",
       "      <td>0.0</td>\n",
       "      <td>0.0</td>\n",
       "      <td>0.000000</td>\n",
       "      <td>0.000000</td>\n",
       "      <td>0.0</td>\n",
       "      <td>0.0</td>\n",
       "    </tr>\n",
       "    <tr>\n",
       "      <td>4.0</td>\n",
       "      <td>730241</td>\n",
       "      <td>0.0</td>\n",
       "      <td>1.3333333333333335</td>\n",
       "      <td>0.0</td>\n",
       "      <td>0.000000</td>\n",
       "      <td>0.0</td>\n",
       "      <td>40.000000</td>\n",
       "      <td>29.333333</td>\n",
       "      <td>12.000000</td>\n",
       "      <td>6.666667</td>\n",
       "      <td>...</td>\n",
       "      <td>10.666667</td>\n",
       "      <td>0.0</td>\n",
       "      <td>0.0</td>\n",
       "      <td>0.0</td>\n",
       "      <td>0.0</td>\n",
       "      <td>0.0</td>\n",
       "      <td>0.000000</td>\n",
       "      <td>0.000000</td>\n",
       "      <td>0.0</td>\n",
       "      <td>0.0</td>\n",
       "    </tr>\n",
       "  </tbody>\n",
       "</table>\n",
       "<p>5 rows × 21 columns</p>\n",
       "</div>"
      ],
      "text/plain": [
       "       Date  애시드/퓨전/팝              드라마OST  클래식      인디음악  영화OST        발라드  \\\n",
       "0.0  730120       0.0                 0.0  0.0  0.000000    0.0  34.615385   \n",
       "1.0  730151       0.0                 0.0  0.0  1.515152    0.0  34.848485   \n",
       "2.0  730180       0.0  1.4705882352941175  0.0  1.470588    0.0  41.176471   \n",
       "3.0  730211       0.0  1.4084507042253522  0.0  1.408451    0.0  39.436620   \n",
       "4.0  730241       0.0  1.3333333333333335  0.0  0.000000    0.0  40.000000   \n",
       "\n",
       "            댄스       록/메탈  R&B/Soul  ...       랩/힙합  EDM  POP  J-POP  성인가요  \\\n",
       "0.0  28.205128  19.230769  3.846154  ...  10.256410  0.0  0.0    0.0   0.0   \n",
       "1.0  33.333333  18.181818  3.030303  ...   7.575758  0.0  0.0    0.0   0.0   \n",
       "2.0  26.470588  17.647059  2.941176  ...   7.352941  0.0  0.0    0.0   0.0   \n",
       "3.0  30.985915  15.492958  4.225352  ...   7.042254  0.0  0.0    0.0   0.0   \n",
       "4.0  29.333333  12.000000  6.666667  ...  10.666667  0.0  0.0    0.0   0.0   \n",
       "\n",
       "      재즈      뉴에이지    포크/블루스  만화/게임OST                   -  \n",
       "0.0  0.0  1.282051  1.282051       0.0   1.282051282051282  \n",
       "1.0  0.0  1.515152  0.000000       0.0                 0.0  \n",
       "2.0  0.0  0.000000  0.000000       0.0  1.4705882352941175  \n",
       "3.0  0.0  0.000000  0.000000       0.0                 0.0  \n",
       "4.0  0.0  0.000000  0.000000       0.0                 0.0  \n",
       "\n",
       "[5 rows x 21 columns]"
      ]
     },
     "execution_count": 510,
     "metadata": {},
     "output_type": "execute_result"
    }
   ],
   "source": [
    "mellon_df.head()"
   ]
  },
  {
   "cell_type": "code",
   "execution_count": 511,
   "metadata": {},
   "outputs": [
    {
     "name": "stdout",
     "output_type": "stream",
     "text": [
      "데이터셋 크기 :  (239, 21)\n"
     ]
    }
   ],
   "source": [
    "print('데이터셋 크기 : ', mellon_df.shape)"
   ]
  },
  {
   "cell_type": "markdown",
   "metadata": {},
   "source": [
    "### 드라마OST, 만화/게임OST, 영화OST등은 다른장르와 중복이 많고 특정 장르가 아니라고 생각하여 제외"
   ]
  },
  {
   "cell_type": "code",
   "execution_count": 512,
   "metadata": {},
   "outputs": [],
   "source": [
    "key = '댄스'\n",
    "Y = mellon_df[key]\n",
    "X = mellon_df.drop(['애시드/퓨전/팝', '드라마OST', '클래식', '인디음악', '영화OST', '발라드', 'EDM', '록/메탈',\n",
    "         'R&B/Soul', '일렉트로니카', '랩/힙합', '발라드', 'POP', 'J-POP', '성인가요', '재즈', '뉴에이지',\n",
    "         '포크/블루스', '만화/게임OST', '-'], axis=1, inplace=False)"
   ]
  },
  {
   "cell_type": "code",
   "execution_count": 514,
   "metadata": {},
   "outputs": [
    {
     "data": {
      "text/html": [
       "<div>\n",
       "<style scoped>\n",
       "    .dataframe tbody tr th:only-of-type {\n",
       "        vertical-align: middle;\n",
       "    }\n",
       "\n",
       "    .dataframe tbody tr th {\n",
       "        vertical-align: top;\n",
       "    }\n",
       "\n",
       "    .dataframe thead th {\n",
       "        text-align: right;\n",
       "    }\n",
       "</style>\n",
       "<table border=\"1\" class=\"dataframe\">\n",
       "  <thead>\n",
       "    <tr style=\"text-align: right;\">\n",
       "      <th></th>\n",
       "      <th>Date</th>\n",
       "      <th>댄스</th>\n",
       "    </tr>\n",
       "  </thead>\n",
       "  <tbody>\n",
       "    <tr>\n",
       "      <td>0.0</td>\n",
       "      <td>730120</td>\n",
       "      <td>28.205128</td>\n",
       "    </tr>\n",
       "    <tr>\n",
       "      <td>1.0</td>\n",
       "      <td>730151</td>\n",
       "      <td>33.333333</td>\n",
       "    </tr>\n",
       "    <tr>\n",
       "      <td>2.0</td>\n",
       "      <td>730180</td>\n",
       "      <td>26.470588</td>\n",
       "    </tr>\n",
       "    <tr>\n",
       "      <td>3.0</td>\n",
       "      <td>730211</td>\n",
       "      <td>30.985915</td>\n",
       "    </tr>\n",
       "    <tr>\n",
       "      <td>4.0</td>\n",
       "      <td>730241</td>\n",
       "      <td>29.333333</td>\n",
       "    </tr>\n",
       "    <tr>\n",
       "      <td>...</td>\n",
       "      <td>...</td>\n",
       "      <td>...</td>\n",
       "    </tr>\n",
       "    <tr>\n",
       "      <td>234.0</td>\n",
       "      <td>737241</td>\n",
       "      <td>15.833333</td>\n",
       "    </tr>\n",
       "    <tr>\n",
       "      <td>235.0</td>\n",
       "      <td>737272</td>\n",
       "      <td>14.960630</td>\n",
       "    </tr>\n",
       "    <tr>\n",
       "      <td>236.0</td>\n",
       "      <td>737303</td>\n",
       "      <td>11.363636</td>\n",
       "    </tr>\n",
       "    <tr>\n",
       "      <td>237.0</td>\n",
       "      <td>737333</td>\n",
       "      <td>8.870968</td>\n",
       "    </tr>\n",
       "    <tr>\n",
       "      <td>238.0</td>\n",
       "      <td>737364</td>\n",
       "      <td>9.756098</td>\n",
       "    </tr>\n",
       "  </tbody>\n",
       "</table>\n",
       "<p>239 rows × 2 columns</p>\n",
       "</div>"
      ],
      "text/plain": [
       "         Date         댄스\n",
       "0.0    730120  28.205128\n",
       "1.0    730151  33.333333\n",
       "2.0    730180  26.470588\n",
       "3.0    730211  30.985915\n",
       "4.0    730241  29.333333\n",
       "...       ...        ...\n",
       "234.0  737241  15.833333\n",
       "235.0  737272  14.960630\n",
       "236.0  737303  11.363636\n",
       "237.0  737333   8.870968\n",
       "238.0  737364   9.756098\n",
       "\n",
       "[239 rows x 2 columns]"
      ]
     },
     "execution_count": 514,
     "metadata": {},
     "output_type": "execute_result"
    }
   ],
   "source": [
    "X"
   ]
  },
  {
   "cell_type": "code",
   "execution_count": 563,
   "metadata": {},
   "outputs": [],
   "source": [
    "X_train, X_test, Y_train, Y_test = train_test_split(X, Y, test_size=0.3, random_state=200)"
   ]
  },
  {
   "cell_type": "code",
   "execution_count": 564,
   "metadata": {},
   "outputs": [
    {
     "data": {
      "text/plain": [
       "[         Date         댄스\n",
       " 101.0  733194  18.348624\n",
       " 13.0   730517  25.373134\n",
       " 175.0  735446  25.663717\n",
       " 224.0  736938  27.433628\n",
       " 144.0  734503  32.380952\n",
       " ...       ...        ...\n",
       " 42.0   731397  20.588235\n",
       " 68.0   732190  19.811321\n",
       " 16.0   730606  25.000000\n",
       " 105.0  733316  25.454545\n",
       " 26.0   730910  16.949153\n",
       " \n",
       " [167 rows x 2 columns],          Date         댄스\n",
       " 146.0  734563  27.192982\n",
       " 163.0  735081  32.743363\n",
       " 190.0  735903  18.803419\n",
       " 192.0  735964  18.260870\n",
       " 104.0  733286  27.272727\n",
       " ...       ...        ...\n",
       " 94.0   732981  10.280374\n",
       " 69.0   732220  18.867925\n",
       " 63.0   732037  12.745098\n",
       " 171.0  735324  16.814159\n",
       " 33.0   731124  26.865672\n",
       " \n",
       " [72 rows x 2 columns], 101.0    18.348624\n",
       " 13.0     25.373134\n",
       " 175.0    25.663717\n",
       " 224.0    27.433628\n",
       " 144.0    32.380952\n",
       "            ...    \n",
       " 42.0     20.588235\n",
       " 68.0     19.811321\n",
       " 16.0     25.000000\n",
       " 105.0    25.454545\n",
       " 26.0     16.949153\n",
       " Name: 댄스, Length: 167, dtype: float64, 146.0    27.192982\n",
       " 163.0    32.743363\n",
       " 190.0    18.803419\n",
       " 192.0    18.260870\n",
       " 104.0    27.272727\n",
       "            ...    \n",
       " 94.0     10.280374\n",
       " 69.0     18.867925\n",
       " 63.0     12.745098\n",
       " 171.0    16.814159\n",
       " 33.0     26.865672\n",
       " Name: 댄스, Length: 72, dtype: float64]"
      ]
     },
     "execution_count": 564,
     "metadata": {},
     "output_type": "execute_result"
    }
   ],
   "source": [
    "train_test_split(X, Y, test_size=0.3, random_state=200)"
   ]
  },
  {
   "cell_type": "code",
   "execution_count": 551,
   "metadata": {},
   "outputs": [],
   "source": [
    "lr= LinearRegression()"
   ]
  },
  {
   "cell_type": "code",
   "execution_count": 552,
   "metadata": {
    "scrolled": true
   },
   "outputs": [
    {
     "data": {
      "text/html": [
       "<div>\n",
       "<style scoped>\n",
       "    .dataframe tbody tr th:only-of-type {\n",
       "        vertical-align: middle;\n",
       "    }\n",
       "\n",
       "    .dataframe tbody tr th {\n",
       "        vertical-align: top;\n",
       "    }\n",
       "\n",
       "    .dataframe thead th {\n",
       "        text-align: right;\n",
       "    }\n",
       "</style>\n",
       "<table border=\"1\" class=\"dataframe\">\n",
       "  <thead>\n",
       "    <tr style=\"text-align: right;\">\n",
       "      <th></th>\n",
       "      <th>Date</th>\n",
       "      <th>댄스</th>\n",
       "    </tr>\n",
       "  </thead>\n",
       "  <tbody>\n",
       "    <tr>\n",
       "      <td>101.0</td>\n",
       "      <td>733194</td>\n",
       "      <td>18.348624</td>\n",
       "    </tr>\n",
       "    <tr>\n",
       "      <td>13.0</td>\n",
       "      <td>730517</td>\n",
       "      <td>25.373134</td>\n",
       "    </tr>\n",
       "    <tr>\n",
       "      <td>175.0</td>\n",
       "      <td>735446</td>\n",
       "      <td>25.663717</td>\n",
       "    </tr>\n",
       "    <tr>\n",
       "      <td>224.0</td>\n",
       "      <td>736938</td>\n",
       "      <td>27.433628</td>\n",
       "    </tr>\n",
       "    <tr>\n",
       "      <td>144.0</td>\n",
       "      <td>734503</td>\n",
       "      <td>32.380952</td>\n",
       "    </tr>\n",
       "    <tr>\n",
       "      <td>...</td>\n",
       "      <td>...</td>\n",
       "      <td>...</td>\n",
       "    </tr>\n",
       "    <tr>\n",
       "      <td>42.0</td>\n",
       "      <td>731397</td>\n",
       "      <td>20.588235</td>\n",
       "    </tr>\n",
       "    <tr>\n",
       "      <td>68.0</td>\n",
       "      <td>732190</td>\n",
       "      <td>19.811321</td>\n",
       "    </tr>\n",
       "    <tr>\n",
       "      <td>16.0</td>\n",
       "      <td>730606</td>\n",
       "      <td>25.000000</td>\n",
       "    </tr>\n",
       "    <tr>\n",
       "      <td>105.0</td>\n",
       "      <td>733316</td>\n",
       "      <td>25.454545</td>\n",
       "    </tr>\n",
       "    <tr>\n",
       "      <td>26.0</td>\n",
       "      <td>730910</td>\n",
       "      <td>16.949153</td>\n",
       "    </tr>\n",
       "  </tbody>\n",
       "</table>\n",
       "<p>167 rows × 2 columns</p>\n",
       "</div>"
      ],
      "text/plain": [
       "         Date         댄스\n",
       "101.0  733194  18.348624\n",
       "13.0   730517  25.373134\n",
       "175.0  735446  25.663717\n",
       "224.0  736938  27.433628\n",
       "144.0  734503  32.380952\n",
       "...       ...        ...\n",
       "42.0   731397  20.588235\n",
       "68.0   732190  19.811321\n",
       "16.0   730606  25.000000\n",
       "105.0  733316  25.454545\n",
       "26.0   730910  16.949153\n",
       "\n",
       "[167 rows x 2 columns]"
      ]
     },
     "execution_count": 552,
     "metadata": {},
     "output_type": "execute_result"
    }
   ],
   "source": [
    "X_train"
   ]
  },
  {
   "cell_type": "code",
   "execution_count": 553,
   "metadata": {},
   "outputs": [
    {
     "data": {
      "text/html": [
       "<div>\n",
       "<style scoped>\n",
       "    .dataframe tbody tr th:only-of-type {\n",
       "        vertical-align: middle;\n",
       "    }\n",
       "\n",
       "    .dataframe tbody tr th {\n",
       "        vertical-align: top;\n",
       "    }\n",
       "\n",
       "    .dataframe thead th {\n",
       "        text-align: right;\n",
       "    }\n",
       "</style>\n",
       "<table border=\"1\" class=\"dataframe\">\n",
       "  <thead>\n",
       "    <tr style=\"text-align: right;\">\n",
       "      <th></th>\n",
       "      <th>Date</th>\n",
       "      <th>댄스</th>\n",
       "    </tr>\n",
       "  </thead>\n",
       "  <tbody>\n",
       "    <tr>\n",
       "      <td>146.0</td>\n",
       "      <td>734563</td>\n",
       "      <td>27.192982</td>\n",
       "    </tr>\n",
       "    <tr>\n",
       "      <td>163.0</td>\n",
       "      <td>735081</td>\n",
       "      <td>32.743363</td>\n",
       "    </tr>\n",
       "    <tr>\n",
       "      <td>190.0</td>\n",
       "      <td>735903</td>\n",
       "      <td>18.803419</td>\n",
       "    </tr>\n",
       "    <tr>\n",
       "      <td>192.0</td>\n",
       "      <td>735964</td>\n",
       "      <td>18.260870</td>\n",
       "    </tr>\n",
       "    <tr>\n",
       "      <td>104.0</td>\n",
       "      <td>733286</td>\n",
       "      <td>27.272727</td>\n",
       "    </tr>\n",
       "    <tr>\n",
       "      <td>...</td>\n",
       "      <td>...</td>\n",
       "      <td>...</td>\n",
       "    </tr>\n",
       "    <tr>\n",
       "      <td>94.0</td>\n",
       "      <td>732981</td>\n",
       "      <td>10.280374</td>\n",
       "    </tr>\n",
       "    <tr>\n",
       "      <td>69.0</td>\n",
       "      <td>732220</td>\n",
       "      <td>18.867925</td>\n",
       "    </tr>\n",
       "    <tr>\n",
       "      <td>63.0</td>\n",
       "      <td>732037</td>\n",
       "      <td>12.745098</td>\n",
       "    </tr>\n",
       "    <tr>\n",
       "      <td>171.0</td>\n",
       "      <td>735324</td>\n",
       "      <td>16.814159</td>\n",
       "    </tr>\n",
       "    <tr>\n",
       "      <td>33.0</td>\n",
       "      <td>731124</td>\n",
       "      <td>26.865672</td>\n",
       "    </tr>\n",
       "  </tbody>\n",
       "</table>\n",
       "<p>72 rows × 2 columns</p>\n",
       "</div>"
      ],
      "text/plain": [
       "         Date         댄스\n",
       "146.0  734563  27.192982\n",
       "163.0  735081  32.743363\n",
       "190.0  735903  18.803419\n",
       "192.0  735964  18.260870\n",
       "104.0  733286  27.272727\n",
       "...       ...        ...\n",
       "94.0   732981  10.280374\n",
       "69.0   732220  18.867925\n",
       "63.0   732037  12.745098\n",
       "171.0  735324  16.814159\n",
       "33.0   731124  26.865672\n",
       "\n",
       "[72 rows x 2 columns]"
      ]
     },
     "execution_count": 553,
     "metadata": {},
     "output_type": "execute_result"
    }
   ],
   "source": [
    "X_test"
   ]
  },
  {
   "cell_type": "code",
   "execution_count": 554,
   "metadata": {},
   "outputs": [
    {
     "data": {
      "text/plain": [
       "101.0    18.348624\n",
       "13.0     25.373134\n",
       "175.0    25.663717\n",
       "224.0    27.433628\n",
       "144.0    32.380952\n",
       "           ...    \n",
       "42.0     20.588235\n",
       "68.0     19.811321\n",
       "16.0     25.000000\n",
       "105.0    25.454545\n",
       "26.0     16.949153\n",
       "Name: 댄스, Length: 167, dtype: float64"
      ]
     },
     "execution_count": 554,
     "metadata": {},
     "output_type": "execute_result"
    }
   ],
   "source": [
    "Y_train"
   ]
  },
  {
   "cell_type": "code",
   "execution_count": 555,
   "metadata": {},
   "outputs": [
    {
     "data": {
      "text/plain": [
       "146.0    27.192982\n",
       "163.0    32.743363\n",
       "190.0    18.803419\n",
       "192.0    18.260870\n",
       "104.0    27.272727\n",
       "           ...    \n",
       "94.0     10.280374\n",
       "69.0     18.867925\n",
       "63.0     12.745098\n",
       "171.0    16.814159\n",
       "33.0     26.865672\n",
       "Name: 댄스, Length: 72, dtype: float64"
      ]
     },
     "execution_count": 555,
     "metadata": {},
     "output_type": "execute_result"
    }
   ],
   "source": [
    "Y_test"
   ]
  },
  {
   "cell_type": "code",
   "execution_count": 556,
   "metadata": {},
   "outputs": [
    {
     "data": {
      "text/plain": [
       "LinearRegression(copy_X=True, fit_intercept=True, n_jobs=None, normalize=False)"
      ]
     },
     "execution_count": 556,
     "metadata": {},
     "output_type": "execute_result"
    }
   ],
   "source": [
    "lr.fit(X_train, Y_train)"
   ]
  },
  {
   "cell_type": "code",
   "execution_count": 557,
   "metadata": {},
   "outputs": [],
   "source": [
    "Y_predict = lr.predict(X_test)"
   ]
  },
  {
   "cell_type": "code",
   "execution_count": 558,
   "metadata": {},
   "outputs": [],
   "source": [
    "mse = mean_squared_error(Y_test, Y_predict)\n",
    "rmse = np.sqrt(mse)"
   ]
  },
  {
   "cell_type": "code",
   "execution_count": 559,
   "metadata": {},
   "outputs": [
    {
     "name": "stdout",
     "output_type": "stream",
     "text": [
      "MSE : 0.000, RMSE : 0.000\n",
      "R^2(Variance score): 1.000\n"
     ]
    }
   ],
   "source": [
    "print('MSE : {0:.3f}, RMSE : {1:.3f}'.format(mse,rmse))\n",
    "print('R^2(Variance score): {0:.3f}'.format(r2_score(Y_test, Y_predict)))"
   ]
  },
  {
   "cell_type": "code",
   "execution_count": 560,
   "metadata": {},
   "outputs": [],
   "source": [
    "coef = pd.Series(data=np.round(lr.coef_,1), index=X.columns)"
   ]
  },
  {
   "cell_type": "code",
   "execution_count": 561,
   "metadata": {},
   "outputs": [
    {
     "data": {
      "text/plain": [
       "댄스      1.0\n",
       "Date    0.0\n",
       "dtype: float64"
      ]
     },
     "execution_count": 561,
     "metadata": {},
     "output_type": "execute_result"
    }
   ],
   "source": [
    "coef.sort_values(ascending=False)"
   ]
  },
  {
   "cell_type": "code",
   "execution_count": null,
   "metadata": {},
   "outputs": [],
   "source": []
  },
  {
   "cell_type": "code",
   "execution_count": 562,
   "metadata": {
    "scrolled": true
   },
   "outputs": [
    {
     "name": "stderr",
     "output_type": "stream",
     "text": [
      "C:\\Users\\jay\\Anaconda3\\lib\\site-packages\\matplotlib\\backends\\backend_agg.py:211: RuntimeWarning: Glyph 45828 missing from current font.\n",
      "  font.set_text(s, 0.0, flags=flags)\n",
      "C:\\Users\\jay\\Anaconda3\\lib\\site-packages\\matplotlib\\backends\\backend_agg.py:211: RuntimeWarning: Glyph 49828 missing from current font.\n",
      "  font.set_text(s, 0.0, flags=flags)\n",
      "C:\\Users\\jay\\Anaconda3\\lib\\site-packages\\matplotlib\\backends\\backend_agg.py:180: RuntimeWarning: Glyph 45828 missing from current font.\n",
      "  font.set_text(s, 0, flags=flags)\n",
      "C:\\Users\\jay\\Anaconda3\\lib\\site-packages\\matplotlib\\backends\\backend_agg.py:180: RuntimeWarning: Glyph 49828 missing from current font.\n",
      "  font.set_text(s, 0, flags=flags)\n"
     ]
    },
    {
     "data": {
      "image/png": "[encoded data removed]",
      "text/plain": [
       "<Figure size 1152x1152 with 15 Axes>"
      ]
     },
     "metadata": {
      "needs_background": "light"
     },
     "output_type": "display_data"
    }
   ],
   "source": [
    "fig, axs = plt.subplots(figsize = (16, 16), ncols = 3, nrows=5)\n",
    "x_features = ['Date', key]\n",
    "\n",
    "for i, feature in enumerate(x_features):\n",
    "    row = i//3\n",
    "    col = i%3\n",
    "    sns.regplot(x=feature, y = 'Date', data=mellon_df.drop(['애시드/퓨전/팝', '드라마OST', \n",
    "        '클래식', '인디음악', '영화OST', 'EDM', '록/메탈',\n",
    "         'R&B/Soul', '일렉트로니카', '랩/힙합', '발라드', 'POP', 'J-POP', '성인가요', '재즈', '뉴에이지',\n",
    "         '포크/블루스', '만화/게임OST', '-'], axis=1, inplace=False), ax = axs[row][col])"
   ]
  },
  {
   "cell_type": "code",
   "execution_count": null,
   "metadata": {},
   "outputs": [],
   "source": []
  },
  {
   "cell_type": "code",
   "execution_count": null,
   "metadata": {},
   "outputs": [],
   "source": []
  },
  {
   "cell_type": "code",
   "execution_count": null,
   "metadata": {},
   "outputs": [],
   "source": []
  }
 ],
 "metadata": {
  "kernelspec": {
   "display_name": "Python 3",
   "language": "python",
   "name": "python3"
  },
  "language_info": {
   "codemirror_mode": {
    "name": "ipython",
    "version": 3
   },
   "file_extension": ".py",
   "mimetype": "text/x-python",
   "name": "python",
   "nbconvert_exporter": "python",
   "pygments_lexer": "ipython3",
   "version": "3.7.4"
  }
 },
 "nbformat": 4,
 "nbformat_minor": 2
}
